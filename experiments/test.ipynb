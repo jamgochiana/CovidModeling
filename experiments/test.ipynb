{
  "nbformat": 4,
  "nbformat_minor": 0,
  "metadata": {
    "colab": {
      "name": "test.ipynb",
      "provenance": []
    },
    "kernelspec": {
      "name": "python3",
      "display_name": "Python 3"
    },
    "language_info": {
      "name": "python"
    }
  },
  "cells": [
    {
      "cell_type": "code",
      "metadata": {
        "id": "XSx9a2zngv1Z"
      },
      "source": [
        "####test for commit"
      ],
      "execution_count": null,
      "outputs": []
    }
  ]
}