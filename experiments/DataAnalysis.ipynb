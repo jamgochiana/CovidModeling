{
 "cells": [
  {
   "cell_type": "code",
   "execution_count": 1,
   "id": "047e73d7",
   "metadata": {},
   "outputs": [
    {
     "ename": "ModuleNotFoundError",
     "evalue": "No module named 'experiments'",
     "output_type": "error",
     "traceback": [
      "\u001b[0;31m---------------------------------------------------------------------------\u001b[0m",
      "\u001b[0;31mModuleNotFoundError\u001b[0m                       Traceback (most recent call last)",
      "\u001b[0;32m<ipython-input-1-927630e4d874>\u001b[0m in \u001b[0;36m<module>\u001b[0;34m\u001b[0m\n\u001b[1;32m      2\u001b[0m \u001b[0;32mimport\u001b[0m \u001b[0mcvxpy\u001b[0m \u001b[0;32mas\u001b[0m \u001b[0mcp\u001b[0m\u001b[0;34m\u001b[0m\u001b[0m\n\u001b[1;32m      3\u001b[0m \u001b[0;34m\u001b[0m\u001b[0m\n\u001b[0;32m----> 4\u001b[0;31m \u001b[0;32mfrom\u001b[0m \u001b[0mexperiments\u001b[0m \u001b[0;32mimport\u001b[0m \u001b[0mestimators\u001b[0m\u001b[0;34m\u001b[0m\u001b[0m\n\u001b[0m",
      "\u001b[0;31mModuleNotFoundError\u001b[0m: No module named 'experiments'"
     ]
    }
   ],
   "source": [
    "import numpy as np\n",
    "import cvxpy as cp\n",
    "\n",
    "from experiments import estimators"
   ]
  },
  {
   "cell_type": "code",
   "execution_count": null,
   "id": "a088fdd3",
   "metadata": {},
   "outputs": [],
   "source": [
    "# size of batch of days we are using\n",
    "T = 25\n",
    "#delta = 0.05\n",
    "# value of lambda for L_1 filtering\n",
    "lbd = 200\n",
    "\n",
    "# number of days it takes to get hospitalized from covid\n",
    "delta1 = 10\n",
    "\n",
    "# number of days it takes to die from covid\n",
    "delta2 = 18\n",
    "\n",
    "# interval of time it takes for infection to \n",
    "int_inf = 14\n",
    "\n",
    "# probability of dying from covid (given disease)\n",
    "p = 0.018\n",
    "\n",
    "\n",
    "V = np.zeros(len(train))\n",
    "U = np.zeros(len(train))\n",
    "cases_so_far = np.zeros(len(train))\n",
    "\n",
    "pred_gammas = np.empty((len(train), 2))\n",
    "\n",
    "# estimate U and V active cases for each day\n",
    "for t in range(delta2, len(train)):\n",
    "    if t == delta2:\n",
    "        cases_so_far[t - delta2] = train[t, 2] / p\n",
    "    else:\n",
    "        cases_so_far[t - delta2] = cases_so_far[t - delta2 - 1] + train[t, 2] / p\n",
    "    \n",
    "    V[t - delta1] = train[t, 1]\n",
    "    \n",
    "    \n",
    "    \n",
    "for t in range(70, len(train)):\n",
    "    U[t - delta2] = U[t - delta2 - 1] + train[t, 2] / p - V[t - delta2] - train[t - delta2, 2] / p + V[t - delta2 * 2]\n",
    "    V[t - delta1] = V[t - delta1 - 1] + train[t, 1] - train[t - delta1, 1]\n",
    "    u = U[t - T - delta2:t - delta2]\n",
    "    v = V[t - T - delta2:t - delta2]\n",
    "    #gm = estimate_params2(v, u)\n",
    "    #print(gm)\n",
    "    #pred_gammas[t] = gm\n",
    "    \n",
    "#print(pred_gammas[50:])"
   ]
  },
  {
   "cell_type": "code",
   "execution_count": null,
   "id": "95bba014",
   "metadata": {},
   "outputs": [],
   "source": []
  },
  {
   "cell_type": "code",
   "execution_count": null,
   "id": "5092ed37",
   "metadata": {},
   "outputs": [],
   "source": []
  },
  {
   "cell_type": "code",
   "execution_count": null,
   "id": "0ff9c13c",
   "metadata": {},
   "outputs": [],
   "source": []
  }
 ],
 "metadata": {
  "kernelspec": {
   "display_name": "Python 3",
   "language": "python",
   "name": "python3"
  },
  "language_info": {
   "codemirror_mode": {
    "name": "ipython",
    "version": 3
   },
   "file_extension": ".py",
   "mimetype": "text/x-python",
   "name": "python",
   "nbconvert_exporter": "python",
   "pygments_lexer": "ipython3",
   "version": "3.7.0"
  }
 },
 "nbformat": 4,
 "nbformat_minor": 5
}
