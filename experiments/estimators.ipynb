{
 "cells": [
  {
   "cell_type": "code",
   "execution_count": 15,
   "id": "8a73a15d",
   "metadata": {},
   "outputs": [],
   "source": [
    "import numpy as np\n",
    "import cvxpy as cp"
   ]
  },
  {
   "cell_type": "code",
   "execution_count": null,
   "id": "c0e46bb3",
   "metadata": {},
   "outputs": [],
   "source": []
  },
  {
   "cell_type": "code",
   "execution_count": 57,
   "id": "dcdff058",
   "metadata": {},
   "outputs": [],
   "source": [
    "def estimate_params2(V, U):\n",
    "    if len(V) != len(U):\n",
    "        raise ValueError(\"Arrays must have the same size\")\n",
    "    T = len(V)\n",
    "    #gammas = np.ones((2, 2))\n",
    "    gammas = cp.Variable(2)\n",
    "    constraints = [gammas >= 0.01]\n",
    "    expression = 0\n",
    "    for d in range(T-1):\n",
    "        #expression += cp.sum_squares(np.array([V[d+1], U[d+1]]) - gammas @ np.array([V[d], U[d]]))\n",
    "        expression += cp.square(V[d+1] - (U[d] + V[d]) * gammas[0])\n",
    "        expression += cp.square(U[d+1] - (U[d] + V[d]) * gammas[1])\n",
    "    problem = cp.Problem(cp.Minimize(expression), constraints)\n",
    "    problem.solve(solver = cp.ECOS)\n",
    "    \n",
    "    opt_val = gammas.value\n",
    "    \n",
    "    return opt_val"
   ]
  },
  {
   "cell_type": "code",
   "execution_count": null,
   "id": "bc070606",
   "metadata": {},
   "outputs": [],
   "source": [
    "def estimate_params4(V, U):\n",
    "    if len(V) != len(U):\n",
    "        raise ValueError(\"Arrays must have the same size\")\n",
    "    T = len(V)\n",
    "    #gammas = np.ones((2, 2))\n",
    "    gammas = cp.Variable((2, 2))\n",
    "    constraints = [gammas >= 0.01]\n",
    "    expression = 0\n",
    "    for d in range(T-1):\n",
    "        expression += cp.sum_squares(np.array([V[d+1], U[d+1]]) - gammas @ np.array([V[d], U[d]]))\n",
    "    problem = cp.Problem(cp.Minimize(expression), constraints)\n",
    "    problem.solve(solver = cp.ECOS)\n",
    "    \n",
    "    opt_val = gammas.value\n",
    "    \n",
    "    return opt_val"
   ]
  },
  {
   "cell_type": "code",
   "execution_count": 85,
   "id": "bbdaf427",
   "metadata": {},
   "outputs": [],
   "source": [
    "def l1_estimate_params4(V, U, lbd):\n",
    "    if len(V) != len(U):\n",
    "        raise ValueError(\"Arrays must have the same size\")\n",
    "    T = len(V)\n",
    "    \n",
    "    gammas = cp.Variable((T, 4))\n",
    "    constraints = [gammas >= 0.01]\n",
    "    expression = 0\n",
    "    for d in range(T-1):\n",
    "        expression += cp.square(V[d+1] - gammas[d, 0] * V[d] - gammas[d, 1] * U[d])\n",
    "        expression += cp.square(U[d+1] - gammas[d, 2] * V[d] - gammas[d, 3] * U[d])\n",
    "        expression += lbd * cp.norm(gammas[d] - gammas[d+1], 1)\n",
    "    \n",
    "    problem = cp.Problem(cp.Minimize(expression), constraints)\n",
    "    problem.solve(solver = cp.ECOS_BB, verbose = True)\n",
    "    \n",
    "    opt_val = gammas.value\n",
    "    \n",
    "    return opt_val"
   ]
  },
  {
   "cell_type": "code",
   "execution_count": 86,
   "id": "c44fee5a",
   "metadata": {},
   "outputs": [],
   "source": [
    "def l1_estimate_params2(V, U, lbd):\n",
    "    if len(V) != len(U):\n",
    "        raise ValueError(\"Arrays must have the same size\")\n",
    "    T = len(V)\n",
    "    \n",
    "    gammas = cp.Variable((T, 2))\n",
    "    constraints = [gammas >= 0.01]\n",
    "    expression = 0\n",
    "    for d in range(T-1):\n",
    "        expression += cp.square(V[d+1] - gammas[d, 0] * (U[d] + V[d]))\n",
    "        expression += cp.square(U[d+1] - gammas[d, 1] * (U[d] + V[d]))\n",
    "        expression += lbd * cp.norm(gammas[d] - gammas[d+1], 1)\n",
    "    \n",
    "    problem = cp.Problem(cp.Minimize(expression), constraints)\n",
    "    problem.solve(solver = cp.ECOS_BB)\n",
    "    \n",
    "    opt_val = gammas.value\n",
    "    \n",
    "    return opt_val"
   ]
  },
  {
   "cell_type": "code",
   "execution_count": null,
   "id": "fb9662a2",
   "metadata": {},
   "outputs": [],
   "source": [
    "def delta_estimate_params4(delta, V, U):\n",
    "    if len(V) != len(U):\n",
    "        raise ValueError(\"Arrays must have the same size\")\n",
    "    T = len(V)\n",
    "    gammas = cp.Variable((T, 4))\n",
    "    constraints = [gammas >= 0.001]\n",
    "    for d in range(T-1):\n",
    "        constraints += [cp.norm(gammas[d+1,:]-gammas[d,:],'inf') <= delta]\n",
    "    expression = 0\n",
    "    for d in range(T-1):\n",
    "        expression += cp.square(V[d+1] - gammas[d, 0] * V[d] - gammas[d, 1] * U[d])\n",
    "        expression += cp.square(U[d+1] - gammas[d, 2] * V[d] - gammas[d, 3] * U[d])\n",
    "        #expression += cp.sum_squares(np.array([V[d+1], U[d+1]]) - gammas[d,:] @ np.array([V[d], U[d]]))\n",
    "    problem = cp.Problem(cp.Minimize(expression), constraints)\n",
    "    problem.solve(solver = cp.ECOS, max_iters = 10000)\n",
    "\n",
    "    opt_val = gammas.value\n",
    "  \n",
    "    return opt_val"
   ]
  },
  {
   "cell_type": "code",
   "execution_count": null,
   "id": "105be3eb",
   "metadata": {},
   "outputs": [],
   "source": [
    "def delta_estimate_params2(delta, V, U):\n",
    "    if len(V) != len(U):\n",
    "        raise ValueError(\"Arrays must have the same size\")\n",
    "    T = len(V)\n",
    "    gammas = cp.Variable((T, 2))\n",
    "    constraints = [gammas >= 0.001]\n",
    "    for d in range(T-1):\n",
    "        constraints += [cp.norm(gammas[d+1,:]-gammas[d,:],'inf') <= delta]\n",
    "    expression = 0\n",
    "    for d in range(T-1):\n",
    "        expression += cp.square(V[d+1] - gammas[d, 0] * (V[d] + U[d]))\n",
    "        expression += cp.square(U[d+1] - gammas[d, 1] * (V[d] + U[d]))\n",
    "        #expression += cp.sum_squares(np.array([V[d+1], U[d+1]]) - gammas[d,:] @ np.array([V[d], U[d]]))\n",
    "    problem = cp.Problem(cp.Minimize(expression), constraints)\n",
    "    problem.solve(solver = cp.ECOS, max_iters = 10000)\n",
    "\n",
    "    opt_val = gammas.value\n",
    "  \n",
    "    return opt_val"
   ]
  },
  {
   "cell_type": "code",
   "execution_count": 79,
   "id": "ce82dabf",
   "metadata": {},
   "outputs": [
    {
     "data": {
      "text/plain": [
       "array([0.15, 1.05])"
      ]
     },
     "execution_count": 79,
     "metadata": {},
     "output_type": "execute_result"
    }
   ],
   "source": [
    "true_gammas = np.array([0.15, 1.05])\n",
    "true_gammas"
   ]
  },
  {
   "cell_type": "code",
   "execution_count": 83,
   "id": "da2e5505",
   "metadata": {},
   "outputs": [],
   "source": [
    "T = 25\n",
    "U = np.zeros(T)\n",
    "V = np.zeros(T)\n",
    "V[0] = 2\n",
    "U[0] = 5\n",
    "'''\n",
    "for i in range(T-1):\n",
    "    sigma = 0.001\n",
    "    I = U[i] + V[i]\n",
    "    noise1 = np.random.normal(0, sigma * np.sqrt(V[i]))\n",
    "    noise2 = np.random.normal(0, sigma * np.sqrt(U[i]))\n",
    "    V[i+1] = V[i] * true_gammas[0, 0] + U[i] * true_gammas[0, 1] + noise1\n",
    "    U[i+1] = V[i] * true_gammas[1, 0] + U[i] * true_gammas[1, 1] + noise2\n",
    "'''\n",
    "for i in range(T-1):\n",
    "    sigma = 1\n",
    "    I = U[i] + V[i]\n",
    "    noise1 = max(0, np.random.normal(0, sigma * np.sqrt(I)))\n",
    "    noise2 = max(0, np.random.normal(0, sigma * np.sqrt(I)))\n",
    "    V[i+1] = I * true_gammas[0] + noise1\n",
    "    U[i+1] = I * true_gammas[1] + noise2\n"
   ]
  },
  {
   "cell_type": "code",
   "execution_count": 90,
   "id": "f21dca7f",
   "metadata": {},
   "outputs": [
    {
     "data": {
      "text/plain": [
       "array([[0.21199293, 1.07465505],\n",
       "       [0.21199293, 1.07465505],\n",
       "       [0.21199293, 1.07465505],\n",
       "       [0.21199293, 1.07465505],\n",
       "       [0.21199293, 1.07465505],\n",
       "       [0.23436272, 1.07465505],\n",
       "       [0.24419071, 1.07465505],\n",
       "       [0.17759417, 1.11722458],\n",
       "       [0.16570143, 1.24391683],\n",
       "       [0.20043764, 1.05790198],\n",
       "       [0.15499048, 1.1688114 ],\n",
       "       [0.15503571, 1.20882486],\n",
       "       [0.15019412, 1.05152964],\n",
       "       [0.15019412, 1.07653736],\n",
       "       [0.15019412, 1.0792476 ],\n",
       "       [0.15019412, 1.1027316 ],\n",
       "       [0.1995738 , 1.05029754],\n",
       "       [0.15019046, 1.09083338],\n",
       "       [0.17269328, 1.05607521],\n",
       "       [0.15008189, 1.05008189],\n",
       "       [0.17476273, 1.08629526],\n",
       "       [0.16141843, 1.05003575],\n",
       "       [0.16857876, 1.06357255],\n",
       "       [0.15000802, 1.07485545],\n",
       "       [0.15000802, 1.07485545]])"
      ]
     },
     "execution_count": 90,
     "metadata": {},
     "output_type": "execute_result"
    }
   ],
   "source": [
    "lbd = 100\n",
    "gammaest = l1_estimate_params2(V, U, lbd)\n",
    "gammaest"
   ]
  },
  {
   "cell_type": "code",
   "execution_count": null,
   "id": "b8a0e8a0",
   "metadata": {},
   "outputs": [],
   "source": []
  },
  {
   "cell_type": "markdown",
   "id": "beac91ef",
   "metadata": {},
   "source": [
    "Dynamic gammas generation"
   ]
  },
  {
   "cell_type": "code",
   "execution_count": 92,
   "id": "af3c8a8b",
   "metadata": {},
   "outputs": [],
   "source": [
    "dynamic_gammas = np.empty((T, 2))\n",
    "\n",
    "dynamic_gammas[0, 0] = 0.15\n",
    "dynamic_gammas[0, 1] = 1.05\n",
    "\n",
    "for t in range(T - 1):\n",
    "    dynamic_gammas[t+1, 0] =dynamic_gammas[t, 0] + 0.005\n",
    "    dynamic_gammas[t+1, 1] =dynamic_gammas[t, 1] + 0.002"
   ]
  },
  {
   "cell_type": "code",
   "execution_count": 93,
   "id": "0eb89d91",
   "metadata": {},
   "outputs": [],
   "source": [
    "U = np.zeros(T)\n",
    "V = np.zeros(T)\n",
    "V[0] = 2\n",
    "U[0] = 5\n",
    "\n",
    "for i in range(T-1):\n",
    "    sigma = 0.1\n",
    "    I = U[i] + V[i]\n",
    "    noise1 = max(0, np.random.normal(0, sigma * np.sqrt(I)))\n",
    "    noise2 = max(0, np.random.normal(0, sigma * np.sqrt(I)))\n",
    "    V[i+1] = I * dynamic_gammas[i, 0] + noise1\n",
    "    U[i+1] = I * dynamic_gammas[i, 1] + noise2"
   ]
  },
  {
   "cell_type": "code",
   "execution_count": 98,
   "id": "68da5745",
   "metadata": {},
   "outputs": [
    {
     "data": {
      "text/plain": [
       "array([[0.19800241, 1.07446938],\n",
       "       [0.19800241, 1.07446938],\n",
       "       [0.19800241, 1.07446938],\n",
       "       [0.19800241, 1.07446938],\n",
       "       [0.19800241, 1.07446938],\n",
       "       [0.19800241, 1.07446938],\n",
       "       [0.19800241, 1.07446938],\n",
       "       [0.19800241, 1.07446938],\n",
       "       [0.19800241, 1.07446938],\n",
       "       [0.19800241, 1.07446938],\n",
       "       [0.19999999, 1.07446938],\n",
       "       [0.205     , 1.07717808],\n",
       "       [0.21      , 1.07717808],\n",
       "       [0.2176883 , 1.07717808],\n",
       "       [0.22007794, 1.07799999],\n",
       "       [0.225     , 1.08383233],\n",
       "       [0.23      , 1.08383233],\n",
       "       [0.23914577, 1.08671663],\n",
       "       [0.24      , 1.08637153],\n",
       "       [0.24929108, 1.09332503],\n",
       "       [0.25      , 1.09469438],\n",
       "       [0.25847878, 1.09213235],\n",
       "       [0.26      , 1.094     ],\n",
       "       [0.26499031, 1.09649985],\n",
       "       [0.26499031, 1.09649985]])"
      ]
     },
     "execution_count": 98,
     "metadata": {},
     "output_type": "execute_result"
    }
   ],
   "source": [
    "lbd = 100\n",
    "gammaest = l1_estimate_params2(V, U, lbd)\n",
    "gammaest"
   ]
  },
  {
   "cell_type": "code",
   "execution_count": 95,
   "id": "bbb96fd8",
   "metadata": {},
   "outputs": [
    {
     "data": {
      "text/plain": [
       "array([[0.15 , 1.05 ],\n",
       "       [0.155, 1.052],\n",
       "       [0.16 , 1.054],\n",
       "       [0.165, 1.056],\n",
       "       [0.17 , 1.058],\n",
       "       [0.175, 1.06 ],\n",
       "       [0.18 , 1.062],\n",
       "       [0.185, 1.064],\n",
       "       [0.19 , 1.066],\n",
       "       [0.195, 1.068],\n",
       "       [0.2  , 1.07 ],\n",
       "       [0.205, 1.072],\n",
       "       [0.21 , 1.074],\n",
       "       [0.215, 1.076],\n",
       "       [0.22 , 1.078],\n",
       "       [0.225, 1.08 ],\n",
       "       [0.23 , 1.082],\n",
       "       [0.235, 1.084],\n",
       "       [0.24 , 1.086],\n",
       "       [0.245, 1.088],\n",
       "       [0.25 , 1.09 ],\n",
       "       [0.255, 1.092],\n",
       "       [0.26 , 1.094],\n",
       "       [0.265, 1.096],\n",
       "       [0.27 , 1.098]])"
      ]
     },
     "execution_count": 95,
     "metadata": {},
     "output_type": "execute_result"
    }
   ],
   "source": [
    "dynamic_gammas"
   ]
  },
  {
   "cell_type": "code",
   "execution_count": 99,
   "id": "1840b4aa",
   "metadata": {},
   "outputs": [
    {
     "data": {
      "text/plain": [
       "array([[0.15, 1.05],\n",
       "       [0.3 , 1.15],\n",
       "       [0.3 , 1.15],\n",
       "       [0.3 , 1.15],\n",
       "       [0.3 , 1.15],\n",
       "       [0.3 , 1.15],\n",
       "       [0.3 , 1.15],\n",
       "       [0.3 , 1.15],\n",
       "       [0.3 , 1.15],\n",
       "       [0.3 , 1.15],\n",
       "       [0.3 , 1.15],\n",
       "       [0.45, 1.25],\n",
       "       [0.45, 1.25],\n",
       "       [0.45, 1.25],\n",
       "       [0.45, 1.25],\n",
       "       [0.45, 1.25],\n",
       "       [0.45, 1.25],\n",
       "       [0.45, 1.25],\n",
       "       [0.45, 1.25],\n",
       "       [0.45, 1.25],\n",
       "       [0.45, 1.25],\n",
       "       [0.6 , 1.35],\n",
       "       [0.6 , 1.35],\n",
       "       [0.6 , 1.35],\n",
       "       [0.6 , 1.35]])"
      ]
     },
     "execution_count": 99,
     "metadata": {},
     "output_type": "execute_result"
    }
   ],
   "source": [
    "dynamic_gammas = np.empty((T, 2))\n",
    "\n",
    "dynamic_gammas[0, 0] = 0.15\n",
    "dynamic_gammas[0, 1] = 1.05\n",
    "\n",
    "for t in range(T - 1):\n",
    "    if t % 10 == 0:\n",
    "        dynamic_gammas[t+1, 0] =dynamic_gammas[t, 0] + 0.15\n",
    "        dynamic_gammas[t+1, 1] =dynamic_gammas[t, 1] + 0.10\n",
    "    else:\n",
    "        dynamic_gammas[t+1, 0] =dynamic_gammas[t, 0] \n",
    "        dynamic_gammas[t+1, 1] =dynamic_gammas[t, 1] \n",
    "dynamic_gammas"
   ]
  },
  {
   "cell_type": "code",
   "execution_count": 100,
   "id": "aac727c9",
   "metadata": {},
   "outputs": [
    {
     "data": {
      "text/plain": [
       "array([[0.30955724, 1.15773154],\n",
       "       [0.30955724, 1.15773154],\n",
       "       [0.30955724, 1.15773154],\n",
       "       [0.30955724, 1.15773154],\n",
       "       [0.30955724, 1.15773154],\n",
       "       [0.30955724, 1.15773154],\n",
       "       [0.30955724, 1.15773154],\n",
       "       [0.30955724, 1.15094742],\n",
       "       [0.30955724, 1.15094742],\n",
       "       [0.30098132, 1.15094742],\n",
       "       [0.30098132, 1.15094742],\n",
       "       [0.45171703, 1.25      ],\n",
       "       [0.45000649, 1.25264383],\n",
       "       [0.45000649, 1.25008192],\n",
       "       [0.4500065 , 1.25284816],\n",
       "       [0.45000649, 1.25004643],\n",
       "       [0.45003434, 1.25000048],\n",
       "       [0.45127936, 1.25000034],\n",
       "       [0.45092367, 1.25000023],\n",
       "       [0.45002719, 1.25004658],\n",
       "       [0.45000005, 1.25000005],\n",
       "       [0.60009693, 1.3502385 ],\n",
       "       [0.60001063, 1.35      ],\n",
       "       [0.60002381, 1.35      ],\n",
       "       [0.60002381, 1.35      ]])"
      ]
     },
     "execution_count": 100,
     "metadata": {},
     "output_type": "execute_result"
    }
   ],
   "source": [
    "U = np.zeros(T)\n",
    "V = np.zeros(T)\n",
    "V[0] = 2\n",
    "U[0] = 5\n",
    "\n",
    "for i in range(T-1):\n",
    "    sigma = 0.1\n",
    "    I = U[i] + V[i]\n",
    "    noise1 = max(0, np.random.normal(0, sigma * np.sqrt(I)))\n",
    "    noise2 = max(0, np.random.normal(0, sigma * np.sqrt(I)))\n",
    "    V[i+1] = I * dynamic_gammas[i, 0] + noise1\n",
    "    U[i+1] = I * dynamic_gammas[i, 1] + noise2\n",
    "\n",
    "lbd = 100\n",
    "gammaest = l1_estimate_params2(V, U, lbd)\n",
    "gammaest"
   ]
  },
  {
   "cell_type": "code",
   "execution_count": null,
   "id": "e44b3b7a",
   "metadata": {},
   "outputs": [],
   "source": []
  },
  {
   "cell_type": "code",
   "execution_count": null,
   "id": "48fb204b",
   "metadata": {},
   "outputs": [],
   "source": []
  }
 ],
 "metadata": {
  "kernelspec": {
   "display_name": "Python 3",
   "language": "python",
   "name": "python3"
  },
  "language_info": {
   "codemirror_mode": {
    "name": "ipython",
    "version": 3
   },
   "file_extension": ".py",
   "mimetype": "text/x-python",
   "name": "python",
   "nbconvert_exporter": "python",
   "pygments_lexer": "ipython3",
   "version": "3.7.0"
  }
 },
 "nbformat": 4,
 "nbformat_minor": 5
}
